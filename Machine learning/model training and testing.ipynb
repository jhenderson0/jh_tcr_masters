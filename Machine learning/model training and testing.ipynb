{
 "cells": [
  {
   "cell_type": "markdown",
   "id": "28cbe239",
   "metadata": {},
   "source": [
    "## Training and testing distance metrics"
   ]
  },
  {
   "cell_type": "code",
   "execution_count": 1,
   "id": "a8d9b0ae",
   "metadata": {},
   "outputs": [],
   "source": [
    "import numpy as np\n",
    "import pandas as pd\n",
    "import torch\n",
    "import torch.nn as nn\n",
    "\n",
    "#Pyrepseq imports\n",
    "import pyrepseq as prs\n",
    "import pyrepseq.plotting as rsp\n",
    "import pyrepseq.distance as rsd\n",
    "import pyrepseq.stats as rss\n",
    "\n",
    "from tcrdist.repertoire import TCRrep\n",
    "\n",
    "#Plotting imports\n",
    "import matplotlib.pyplot as plt\n",
    "from matplotlib.pyplot import cm\n",
    "import matplotlib.style \n",
    "import matplotlib as mpl \n",
    "import seaborn as sns\n",
    "\n",
    "from matplotlib.colors import LogNorm, Normalize\n",
    "\n",
    "import warnings\n",
    "warnings.simplefilter(action=\"ignore\", category=FutureWarning)"
   ]
  },
  {
   "cell_type": "code",
   "execution_count": 2,
   "id": "abb70c4f",
   "metadata": {},
   "outputs": [],
   "source": [
    "import sys\n",
    "sys.path.append( '/Users/james/Documents/UNI/Year_4/Project/tcrmetric' )\n",
    "import tcrmetric_src as src"
   ]
  },
  {
   "cell_type": "code",
   "execution_count": 3,
   "id": "1de9deff",
   "metadata": {},
   "outputs": [],
   "source": [
    "#Set default plotting parameters\n",
    "mpl.rcParams['figure.figsize'] = [4.0, 4.0] \n",
    "mpl.rcParams[\"legend.frameon\"] = False\n",
    "mpl.rcParams['figure.dpi']=500 \n",
    "\n",
    "SMALL_SIZE = 10\n",
    "MEDIUM_SIZE = 12\n",
    "BIGGER_SIZE = 12\n",
    "\n",
    "plt.rc('font', size=MEDIUM_SIZE)          # controls default text sizes\n",
    "plt.rc('axes', titlesize=BIGGER_SIZE)     # fontsize of the axes title\n",
    "plt.rc('axes', labelsize=MEDIUM_SIZE)    # fontsize of the x and y labels\n",
    "plt.rc('xtick', labelsize=SMALL_SIZE)    # fontsize of the tick labels\n",
    "plt.rc('ytick', labelsize=SMALL_SIZE)    # fontsize of the tick labels\n",
    "plt.rc('legend', fontsize=MEDIUM_SIZE)    # legend fontsize\n",
    "plt.rc('figure', titlesize=BIGGER_SIZE)  # fontsize of the figure title"
   ]
  },
  {
   "cell_type": "code",
   "execution_count": 4,
   "id": "bb211d07",
   "metadata": {},
   "outputs": [],
   "source": [
    "#Custom files\n",
    "aminoacids = 'CMFILVWYAGTSNQDEHRKP'\n",
    "v_genes = [\"TRBV1\", \"TRBV2\", \"TRBV3-1\", \"TRBV3-2\", \"TRBV4-1\", \"TRBV4-2\", \"TRBV4-3\",\n",
    "           \"TRBV5-1\", \"TRBV5-2\", \"TRBV5-3\", \"TRBV5-4\", \"TRBV5-5\", \"TRBV5-6\", \"TRBV5-7\", \"TRBV5-8\",\n",
    "           \"TRBV6-1\", \"TRBV6-2\", \"TRBV6-3\", \"TRBV6-4\", \"TRBV6-5\", \"TRBV6-6\", \"TRBV6-7\", \"TRBV6-8\", \"TRBV6-9\",\n",
    "           \"TRBV7-1\", \"TRBV7-2\", \"TRBV7-3\", \"TRBV7-4\", \"TRBV7-5\", \"TRBV7-6\", \"TRBV7-7\", \"TRBV7-8\", \"TRBV7-9\",\n",
    "           \"TRBV8-1\", \"TRBV8-2\", \"TRBV9\",  \"TRBV10-1\",\"TRBV10-2\", \"TRBV10-3\", \"TRBV11-1\",\"TRBV11-2\", \"TRBV11-3\",\n",
    "           \"TRBV12-1\",\"TRBV12-2\", \"TRBV12-3\",\"TRBV12-4\", \"TRBV12-5\", \"TRBV13\",\"TRBV14\", \"TRBV15\",\"TRBV16\", \n",
    "           \"TRBV17\", \"TRBV18\", \"TRBV19\", \"TRBV20-1\", \"TRBV21-1\", \"TRBV22-1\", \"TRBV23-1\", \"TRBV24-1\", \"TRBV25-1\",\n",
    "           \"TRBV26\", \"TRBV27\", \"TRBV28\", \"TRBV29-1\", \"TRBV30\"]"
   ]
  },
  {
   "cell_type": "markdown",
   "id": "1493101a",
   "metadata": {},
   "source": [
    "## Data import"
   ]
  },
  {
   "cell_type": "code",
   "execution_count": 5,
   "id": "0701d471",
   "metadata": {},
   "outputs": [
    {
     "name": "stderr",
     "output_type": "stream",
     "text": [
      "/Users/james/miniconda3/lib/python3.10/site-packages/tidytcells/tcr/_main.py:110: UserWarning: Failed to standardise: \"TCRBV27-01\" for species HomoSapiens. Attempted fix \"TRBV27-1\" did not meet the standardised format requirements. Ignoring this gene name...\n",
      "  warn(\n",
      "/Users/james/miniconda3/lib/python3.10/site-packages/tidytcells/tcr/_main.py:110: UserWarning: Failed to standardise: \"TCRBV30-01\" for species HomoSapiens. Attempted fix \"TRBV30-1\" did not meet the standardised format requirements. Ignoring this gene name...\n",
      "  warn(\n",
      "/Users/james/miniconda3/lib/python3.10/site-packages/tidytcells/tcr/_main.py:110: UserWarning: Failed to standardise: \"TCRBV12-X\" for species HomoSapiens. Attempted fix \"TRBV12-X\" did not meet the standardised format requirements. Ignoring this gene name...\n",
      "  warn(\n",
      "/Users/james/miniconda3/lib/python3.10/site-packages/tidytcells/tcr/_main.py:110: UserWarning: Failed to standardise: \"TCRBV06-X\" for species HomoSapiens. Attempted fix \"TRBV6-X\" did not meet the standardised format requirements. Ignoring this gene name...\n",
      "  warn(\n",
      "/Users/james/miniconda3/lib/python3.10/site-packages/tidytcells/tcr/_main.py:110: UserWarning: Failed to standardise: \"TCRBV13-01\" for species HomoSapiens. Attempted fix \"TRBV13-1\" did not meet the standardised format requirements. Ignoring this gene name...\n",
      "  warn(\n",
      "/Users/james/miniconda3/lib/python3.10/site-packages/tidytcells/tcr/_main.py:110: UserWarning: Failed to standardise: \"TCRBV12-03/12-04\" for species HomoSapiens. Attempted fix \"TRBV12-3/12-4\" did not meet the standardised format requirements. Ignoring this gene name...\n",
      "  warn(\n",
      "/Users/james/miniconda3/lib/python3.10/site-packages/tidytcells/tcr/_main.py:110: UserWarning: Failed to standardise: \"TCRBV09-01\" for species HomoSapiens. Attempted fix \"TRBV9-1\" did not meet the standardised format requirements. Ignoring this gene name...\n",
      "  warn(\n",
      "/Users/james/miniconda3/lib/python3.10/site-packages/tidytcells/tcr/_main.py:110: UserWarning: Failed to standardise: \"TCRBV28-01\" for species HomoSapiens. Attempted fix \"TRBV28-1\" did not meet the standardised format requirements. Ignoring this gene name...\n",
      "  warn(\n",
      "/Users/james/miniconda3/lib/python3.10/site-packages/tidytcells/tcr/_main.py:110: UserWarning: Failed to standardise: \"X\" for species HomoSapiens. Attempted fix \"X\" did not meet the standardised format requirements. Ignoring this gene name...\n",
      "  warn(\n",
      "/Users/james/miniconda3/lib/python3.10/site-packages/tidytcells/tcr/_main.py:110: UserWarning: Failed to standardise: \"TCRBV06-02/06-03\" for species HomoSapiens. Attempted fix \"TRBV6-2/6-3\" did not meet the standardised format requirements. Ignoring this gene name...\n",
      "  warn(\n",
      "/Users/james/miniconda3/lib/python3.10/site-packages/tidytcells/tcr/_main.py:110: UserWarning: Failed to standardise: \"TCRBV19-01\" for species HomoSapiens. Attempted fix \"TRBV19-1\" did not meet the standardised format requirements. Ignoring this gene name...\n",
      "  warn(\n",
      "/Users/james/miniconda3/lib/python3.10/site-packages/tidytcells/tcr/_main.py:110: UserWarning: Failed to standardise: \"TCRBV15-01\" for species HomoSapiens. Attempted fix \"TRBV15-1\" did not meet the standardised format requirements. Ignoring this gene name...\n",
      "  warn(\n",
      "/Users/james/miniconda3/lib/python3.10/site-packages/tidytcells/tcr/_main.py:110: UserWarning: Failed to standardise: \"TCRBV20-X\" for species HomoSapiens. Attempted fix \"TRBV20-X\" did not meet the standardised format requirements. Ignoring this gene name...\n",
      "  warn(\n",
      "/Users/james/miniconda3/lib/python3.10/site-packages/tidytcells/tcr/_main.py:110: UserWarning: Failed to standardise: \"TCRBV02-01\" for species HomoSapiens. Attempted fix \"TRBV2-1\" did not meet the standardised format requirements. Ignoring this gene name...\n",
      "  warn(\n",
      "/Users/james/miniconda3/lib/python3.10/site-packages/tidytcells/tcr/_main.py:110: UserWarning: Failed to standardise: \"TCRBV14-01\" for species HomoSapiens. Attempted fix \"TRBV14-1\" did not meet the standardised format requirements. Ignoring this gene name...\n",
      "  warn(\n",
      "/Users/james/miniconda3/lib/python3.10/site-packages/tidytcells/tcr/_main.py:110: UserWarning: Failed to standardise: \"TCRBV18-01\" for species HomoSapiens. Attempted fix \"TRBV18-1\" did not meet the standardised format requirements. Ignoring this gene name...\n",
      "  warn(\n",
      "/Users/james/miniconda3/lib/python3.10/site-packages/tidytcells/tcr/_main.py:110: UserWarning: Failed to standardise: \"TCRBV03-01/03-02\" for species HomoSapiens. Attempted fix \"TRBV3-1/3-2\" did not meet the standardised format requirements. Ignoring this gene name...\n",
      "  warn(\n",
      "/Users/james/miniconda3/lib/python3.10/site-packages/tidytcells/tcr/_main.py:110: UserWarning: Failed to standardise: \"TCRBV07-X\" for species HomoSapiens. Attempted fix \"TRBV7-X\" did not meet the standardised format requirements. Ignoring this gene name...\n",
      "  warn(\n",
      "/Users/james/miniconda3/lib/python3.10/site-packages/tidytcells/tcr/_main.py:110: UserWarning: Failed to standardise: \"TCRBV21-01\" for species HomoSapiens. Attempted fix \"TRBV21-1\" did not meet the standardised format requirements. Ignoring this gene name...\n",
      "  warn(\n",
      "/Users/james/miniconda3/lib/python3.10/site-packages/tidytcells/tcr/_main.py:110: UserWarning: Failed to standardise: \"TCRBV12-02\" for species HomoSapiens. Attempted fix \"TRBV12-2\" did not meet the standardised format requirements. Ignoring this gene name...\n",
      "  warn(\n",
      "/Users/james/miniconda3/lib/python3.10/site-packages/tidytcells/tcr/_main.py:110: UserWarning: Failed to standardise: \"TCRBV07-05\" for species HomoSapiens. Attempted fix \"TRBV7-5\" did not meet the standardised format requirements. Ignoring this gene name...\n",
      "  warn(\n",
      "/Users/james/miniconda3/lib/python3.10/site-packages/tidytcells/tcr/_main.py:110: UserWarning: Failed to standardise: \"TCRBV16-01\" for species HomoSapiens. Attempted fix \"TRBV16-1\" did not meet the standardised format requirements. Ignoring this gene name...\n",
      "  warn(\n",
      "/Users/james/miniconda3/lib/python3.10/site-packages/tidytcells/tcr/_main.py:110: UserWarning: Failed to standardise: \"TCRBV25-X\" for species HomoSapiens. Attempted fix \"TRBV25-X\" did not meet the standardised format requirements. Ignoring this gene name...\n",
      "  warn(\n",
      "/Users/james/miniconda3/lib/python3.10/site-packages/tidytcells/tcr/_main.py:110: UserWarning: Failed to standardise: \"TCRBV23-01\" for species HomoSapiens. Attempted fix \"TRBV23-1\" did not meet the standardised format requirements. Ignoring this gene name...\n",
      "  warn(\n",
      "/Users/james/miniconda3/lib/python3.10/site-packages/tidytcells/tcr/_main.py:110: UserWarning: Failed to standardise: \"TCRBV06-07\" for species HomoSapiens. Attempted fix \"TRBV6-7\" did not meet the standardised format requirements. Ignoring this gene name...\n",
      "  warn(\n",
      "/Users/james/miniconda3/lib/python3.10/site-packages/tidytcells/tcr/_main.py:110: UserWarning: Failed to standardise: \"TCRBV05-03\" for species HomoSapiens. Attempted fix \"TRBV5-3\" did not meet the standardised format requirements. Ignoring this gene name...\n",
      "  warn(\n",
      "/Users/james/miniconda3/lib/python3.10/site-packages/tidytcells/tcr/_main.py:110: UserWarning: Failed to standardise: \"TCRBV11-X\" for species HomoSapiens. Attempted fix \"TRBV11-X\" did not meet the standardised format requirements. Ignoring this gene name...\n",
      "  warn(\n",
      "/Users/james/miniconda3/lib/python3.10/site-packages/tidytcells/tcr/_main.py:110: UserWarning: Failed to standardise: \"TCRBV05-X\" for species HomoSapiens. Attempted fix \"TRBV5-X\" did not meet the standardised format requirements. Ignoring this gene name...\n",
      "  warn(\n",
      "/Users/james/miniconda3/lib/python3.10/site-packages/tidytcells/tcr/_main.py:110: UserWarning: Failed to standardise: \"TCRBV12-01\" for species HomoSapiens. Attempted fix \"TRBV12-1\" did not meet the standardised format requirements. Ignoring this gene name...\n",
      "  warn(\n",
      "/Users/james/miniconda3/lib/python3.10/site-packages/tidytcells/tcr/_main.py:110: UserWarning: Failed to standardise: \"TCRBV04-X\" for species HomoSapiens. Attempted fix \"TRBV4-X\" did not meet the standardised format requirements. Ignoring this gene name...\n",
      "  warn(\n",
      "/Users/james/miniconda3/lib/python3.10/site-packages/tidytcells/tcr/_main.py:110: UserWarning: Failed to standardise: \"TCRBV01-01\" for species HomoSapiens. Attempted fix \"TRBV1-1\" did not meet the standardised format requirements. Ignoring this gene name...\n",
      "  warn(\n",
      "/Users/james/miniconda3/lib/python3.10/site-packages/tidytcells/tcr/_main.py:110: UserWarning: Failed to standardise: \"TCRBV05-07\" for species HomoSapiens. Attempted fix \"TRBV5-7\" did not meet the standardised format requirements. Ignoring this gene name...\n",
      "  warn(\n",
      "/Users/james/miniconda3/lib/python3.10/site-packages/tidytcells/tcr/_main.py:110: UserWarning: Failed to standardise: \"TCRBV07-01\" for species HomoSapiens. Attempted fix \"TRBV7-1\" did not meet the standardised format requirements. Ignoring this gene name...\n",
      "  warn(\n"
     ]
    },
    {
     "name": "stderr",
     "output_type": "stream",
     "text": [
      "/Users/james/miniconda3/lib/python3.10/site-packages/tidytcells/tcr/_main.py:110: UserWarning: Failed to standardise: \"TCRBJ02-X\" for species HomoSapiens. Attempted fix \"TRBJ2-X\" did not meet the standardised format requirements. Ignoring this gene name...\n",
      "  warn(\n"
     ]
    }
   ],
   "source": [
    "mira = pd.read_csv('../data/mira/processed/peptide-detail-ci.csv')\n",
    "mira = mira[mira['amino_acid'].apply(prs.isvalidcdr3)]\n",
    "mira.drop_duplicates('amino_acid', inplace=True)\n",
    "mira = prs.standardize_dataframe(mira\n",
    "                                        , [None, None, None ,\n",
    "                               \"v_gene\", \"amino_acid\", \"j_gene\",\n",
    "                    \n",
    "                                           \"Amino Acids\", None, None, None])\n",
    "\n",
    "mira = mira.dropna(axis=0, subset = [\"CDR3B\", \"TRBV\", \"TRBJ\"] ).reset_index().drop(\"index\", axis=1)"
   ]
  },
  {
   "cell_type": "markdown",
   "id": "ea8478bb",
   "metadata": {},
   "source": [
    "## Model design\n",
    "\n",
    "### Weighted Levenshtein distance"
   ]
  },
  {
   "cell_type": "code",
   "execution_count": 6,
   "id": "dbd21482",
   "metadata": {},
   "outputs": [],
   "source": [
    "import torch\n",
    "import numpy as np\n",
    "import torch.nn as nn\n",
    "import pyrepseq.distance as rsd\n",
    "from rapidfuzz.process import cdist as rfcdist\n",
    "from rapidfuzz.distance import Levenshtein\n",
    "\n",
    "from scipy.spatial.distance import squareform\n",
    "\n",
    "class weightedLevenshteinModel(nn.Module):\n",
    "    def __init__(self):\n",
    "        super().__init__()\n",
    "        self.name = \"Levenshtein\"\n",
    "        \n",
    "    def weightedLevenshtein(self,*args,**kwargs):\n",
    "        \n",
    "        return Levenshtein.distance(*args,**kwargs,weights=(1+np.log(4),1+np.log(4),1))\n",
    "         \n",
    "    def pdist(self, sequence_elements):\n",
    "\n",
    "        distances = 0\n",
    "        \n",
    "        try:\n",
    "            full_cdist = rfcdist(sequence_elements[\"CDR3A\"],sequence_elements[\"CDR3A\"],scorer=self.weightedLevenshtein)\n",
    "            distances += squareform(full_cdist)\n",
    "        except:\n",
    "            pass\n",
    "\n",
    "        try:\n",
    "            full_cdist = rfcdist(sequence_elements[\"CDR3B\"],sequence_elements[\"CDR3B\"],scorer=self.weightedLevenshtein)\n",
    "            distances += squareform(full_cdist)\n",
    "        except:\n",
    "            pass\n",
    "\n",
    "        return torch.Tensor(distances)\n",
    "    \n",
    "    def cdist(self, sequence_elements_1, sequence_elements_2):\n",
    "        distances = 0\n",
    "        try:\n",
    "            distances += rfcdist(sequence_elements_1[\"CDR3A\"],sequence_elements_2[\"CDR3A\"],scorer=self.weightedLevenshtein)\n",
    "\n",
    "        except:\n",
    "            pass\n",
    "\n",
    "        try:\n",
    "            distances += rfcdist(sequence_elements_1[\"CDR3B\"],sequence_elements_2[\"CDR3B\"],scorer=self.weightedLevenshtein)\n",
    "        except:\n",
    "            pass\n",
    "\n",
    "        return torch.Tensor(distances)"
   ]
  },
  {
   "cell_type": "markdown",
   "id": "9e92d44c",
   "metadata": {},
   "source": [
    "### V gene embedder"
   ]
  },
  {
   "cell_type": "code",
   "execution_count": 7,
   "id": "e60661c5",
   "metadata": {},
   "outputs": [],
   "source": [
    "v_gene_to_number = {gene : num for num, gene in enumerate(v_genes)}\n",
    "\n",
    "#Bag of words model\n",
    "class TRBV_Embedder(nn.Module):\n",
    "    def __init__(self, name, output_size):\n",
    "        super().__init__()\n",
    "        self.name = name\n",
    "        self.TRBV_weights = nn.Parameter(torch.normal(0, 1e-5, (len(v_gene_to_number), output_size)\n",
    "                                                     , requires_grad=True, dtype=torch.double))\n",
    "        \n",
    "    def tokenise_TRBV(self, seqs):\n",
    "        tokens = np.zeros((len(seqs),len(v_gene_to_number)))\n",
    "            \n",
    "        for i, seq in enumerate(seqs):\n",
    "            j = v_gene_to_number[seq]\n",
    "            tokens[i,j] += 1\n",
    "                \n",
    "        return torch.from_numpy(tokens)\n",
    "    \n",
    "    def forward(self, sequence_elements):\n",
    "            \n",
    "        #Get a vector representation for each sequence element\n",
    "        vects = []\n",
    "        for key, sequence_element in sequence_elements.items():    \n",
    "            if key == \"TRBV\":\n",
    "                element_token = self.tokenise_TRBV(sequence_element)\n",
    "                vects.append(torch.matmul(element_token, self.TRBV_weights))\n",
    "                \n",
    "        #Combine the sequence element vectors\n",
    "        vect = torch.cat(vects,dim=1)\n",
    "                \n",
    "        #Normalize the result\n",
    "        return (vect.T/torch.linalg.norm(vect,dim=1)).T\n",
    "        \n",
    "    def pdist(self, sequence_elements):\n",
    "            \n",
    "        x = self(sequence_elements)\n",
    "            \n",
    "        return torch.pdist(x)\n",
    "\n",
    "    def cdist(self, sequence_elements_1, sequence_elements_2):\n",
    "            \n",
    "        x = self(sequence_elements_1)\n",
    "        y = self(sequence_elements_2)\n",
    "        \n",
    "        return torch.cdist(x,y)"
   ]
  },
  {
   "cell_type": "markdown",
   "id": "fb516ad6",
   "metadata": {},
   "source": [
    "### V gene embedder with Levenshtein distance"
   ]
  },
  {
   "cell_type": "code",
   "execution_count": 8,
   "id": "7ccb4fe4",
   "metadata": {},
   "outputs": [],
   "source": [
    "v_gene_to_number = {gene : num for num, gene in enumerate(v_genes)}\n",
    "\n",
    "#Bag of words model\n",
    "class TRBVL_Embedder(nn.Module):\n",
    "    def __init__(self, name, output_size):\n",
    "        super().__init__()\n",
    "        self.name = name\n",
    "        self.TRBV_weights = nn.Parameter(torch.normal(0, 1e-5, (len(v_gene_to_number), output_size)\n",
    "                                                     , requires_grad=True, dtype=torch.double))\n",
    "        \n",
    "    def weightedLevenshtein(self,*args,**kwargs):\n",
    "        \n",
    "        return Levenshtein.distance(*args,**kwargs,weights=(1+np.log(4),1+np.log(4),1))\n",
    "         \n",
    "        \n",
    "    def tokenise_TRBV(self, seqs):\n",
    "        tokens = np.zeros((len(seqs),len(v_gene_to_number)))\n",
    "            \n",
    "        for i, seq in enumerate(seqs):\n",
    "            j = v_gene_to_number[seq]\n",
    "            tokens[i,j] += 1\n",
    "                \n",
    "        return torch.from_numpy(tokens)\n",
    "    \n",
    "    def forward(self, sequence_elements):\n",
    "            \n",
    "        #Get a vector representation for each sequence element\n",
    "        vects = []\n",
    "        for key, sequence_element in sequence_elements.items():    \n",
    "            if key == \"TRBV\":\n",
    "                element_token = self.tokenise_TRBV(sequence_element)\n",
    "                vects.append(torch.matmul(element_token, self.TRBV_weights))\n",
    "                \n",
    "        #Combine the sequence element vectors\n",
    "        vect = torch.cat(vects,dim=1)\n",
    "                \n",
    "        #Normalize the result\n",
    "        return (vect.T/torch.linalg.norm(vect,dim=1)).T\n",
    "        \n",
    "    def pdist(self, sequence_elements):\n",
    "            \n",
    "        x = self(sequence_elements)\n",
    "        \n",
    "        cdr3b_pdist = torch.tensor(squareform(rfcdist(sequence_elements[\"CDR3B\"]\n",
    "                                                      ,sequence_elements[\"CDR3B\"],scorer=self.weightedLevenshtein)))\n",
    "            \n",
    "        return cdr3b_pdist + torch.pdist(x)\n",
    "\n",
    "    def cdist(self, sequence_elements_1, sequence_elements_2):\n",
    "            \n",
    "        x = self(sequence_elements_1)\n",
    "        y = self(sequence_elements_2)\n",
    "            \n",
    "        cdr3b_cdist = torch.Tensor(rfcdist(sequence_elements_1[\"CDR3B\"]\n",
    "                                           ,sequence_elements_2[\"CDR3B\"],scorer=self.weightedLevenshtein))\n",
    "        \n",
    "        return cdr3b_cdist + torch.cdist(x,y)"
   ]
  },
  {
   "cell_type": "markdown",
   "id": "481bd9a7",
   "metadata": {},
   "source": [
    "## Training and testing - Mira\n"
   ]
  },
  {
   "cell_type": "code",
   "execution_count": 11,
   "id": "e38496db",
   "metadata": {},
   "outputs": [],
   "source": [
    "num_epitopes = 10"
   ]
  },
  {
   "cell_type": "code",
   "execution_count": 60,
   "id": "e7da0fb3",
   "metadata": {},
   "outputs": [
    {
     "name": "stdout",
     "output_type": "stream",
     "text": [
      "Data set split into 3750 training sequences and 1250 testing sequences\n",
      "Testing Levenshtein\n",
      "Testing Levenshtein\n",
      "-----Training trbv------\n"
     ]
    },
    {
     "name": "stderr",
     "output_type": "stream",
     "text": [
      "100%|█████████████████████████████████████████| 200/200 [00:03<00:00, 63.22it/s]\n"
     ]
    },
    {
     "name": "stdout",
     "output_type": "stream",
     "text": [
      "Finished training\n",
      "Testing trbv\n",
      "-----Training trbv------\n"
     ]
    },
    {
     "name": "stderr",
     "output_type": "stream",
     "text": [
      "100%|█████████████████████████████████████████| 200/200 [01:24<00:00,  2.37it/s]\n"
     ]
    },
    {
     "name": "stdout",
     "output_type": "stream",
     "text": [
      "Finished training\n",
      "Testing trbv\n",
      "Data set split into 3750 training sequences and 1250 testing sequences\n",
      "Testing Levenshtein\n",
      "Testing Levenshtein\n",
      "-----Training trbv------\n"
     ]
    },
    {
     "name": "stderr",
     "output_type": "stream",
     "text": [
      "100%|█████████████████████████████████████████| 200/200 [00:03<00:00, 62.88it/s]\n"
     ]
    },
    {
     "name": "stdout",
     "output_type": "stream",
     "text": [
      "Finished training\n",
      "Testing trbv\n",
      "-----Training trbv------\n"
     ]
    },
    {
     "name": "stderr",
     "output_type": "stream",
     "text": [
      "100%|█████████████████████████████████████████| 200/200 [01:24<00:00,  2.36it/s]\n"
     ]
    },
    {
     "name": "stdout",
     "output_type": "stream",
     "text": [
      "Finished training\n",
      "Testing trbv\n",
      "Data set split into 3750 training sequences and 1250 testing sequences\n",
      "Testing Levenshtein\n",
      "Testing Levenshtein\n",
      "-----Training trbv------\n"
     ]
    },
    {
     "name": "stderr",
     "output_type": "stream",
     "text": [
      "100%|█████████████████████████████████████████| 200/200 [00:03<00:00, 63.37it/s]\n"
     ]
    },
    {
     "name": "stdout",
     "output_type": "stream",
     "text": [
      "Finished training\n",
      "Testing trbv\n",
      "-----Training trbv------\n"
     ]
    },
    {
     "name": "stderr",
     "output_type": "stream",
     "text": [
      "100%|█████████████████████████████████████████| 200/200 [01:23<00:00,  2.38it/s]\n"
     ]
    },
    {
     "name": "stdout",
     "output_type": "stream",
     "text": [
      "Finished training\n",
      "Testing trbv\n",
      "Data set split into 3750 training sequences and 1250 testing sequences\n",
      "Testing Levenshtein\n",
      "Testing Levenshtein\n",
      "-----Training trbv------\n"
     ]
    },
    {
     "name": "stderr",
     "output_type": "stream",
     "text": [
      "100%|█████████████████████████████████████████| 200/200 [00:03<00:00, 63.26it/s]\n"
     ]
    },
    {
     "name": "stdout",
     "output_type": "stream",
     "text": [
      "Finished training\n",
      "Testing trbv\n",
      "-----Training trbv------\n"
     ]
    },
    {
     "name": "stderr",
     "output_type": "stream",
     "text": [
      "100%|█████████████████████████████████████████| 200/200 [01:24<00:00,  2.37it/s]\n"
     ]
    },
    {
     "name": "stdout",
     "output_type": "stream",
     "text": [
      "Finished training\n",
      "Testing trbv\n",
      "Data set split into 3750 training sequences and 1250 testing sequences\n",
      "Testing Levenshtein\n",
      "Testing Levenshtein\n",
      "-----Training trbv------\n"
     ]
    },
    {
     "name": "stderr",
     "output_type": "stream",
     "text": [
      "100%|█████████████████████████████████████████| 200/200 [00:03<00:00, 62.94it/s]\n"
     ]
    },
    {
     "name": "stdout",
     "output_type": "stream",
     "text": [
      "Finished training\n",
      "Testing trbv\n",
      "-----Training trbv------\n"
     ]
    },
    {
     "name": "stderr",
     "output_type": "stream",
     "text": [
      "100%|█████████████████████████████████████████| 200/200 [03:12<00:00,  1.04it/s]\n"
     ]
    },
    {
     "name": "stdout",
     "output_type": "stream",
     "text": [
      "Finished training\n",
      "Testing trbv\n",
      "Data set split into 3750 training sequences and 1250 testing sequences\n",
      "Testing Levenshtein\n",
      "Testing Levenshtein\n",
      "-----Training trbv------\n"
     ]
    },
    {
     "name": "stderr",
     "output_type": "stream",
     "text": [
      "100%|█████████████████████████████████████████| 200/200 [00:03<00:00, 63.69it/s]\n"
     ]
    },
    {
     "name": "stdout",
     "output_type": "stream",
     "text": [
      "Finished training\n",
      "Testing trbv\n",
      "-----Training trbv------\n"
     ]
    },
    {
     "name": "stderr",
     "output_type": "stream",
     "text": [
      "100%|█████████████████████████████████████████| 200/200 [18:06<00:00,  5.43s/it]\n"
     ]
    },
    {
     "name": "stdout",
     "output_type": "stream",
     "text": [
      "Finished training\n",
      "Testing trbv\n",
      "Data set split into 3750 training sequences and 1250 testing sequences\n",
      "Testing Levenshtein\n",
      "Testing Levenshtein\n",
      "-----Training trbv------\n"
     ]
    },
    {
     "name": "stderr",
     "output_type": "stream",
     "text": [
      "100%|█████████████████████████████████████████| 200/200 [00:03<00:00, 63.59it/s]\n"
     ]
    },
    {
     "name": "stdout",
     "output_type": "stream",
     "text": [
      "Finished training\n",
      "Testing trbv\n",
      "-----Training trbv------\n"
     ]
    },
    {
     "name": "stderr",
     "output_type": "stream",
     "text": [
      "100%|███████████████████████████████████████| 200/200 [1:24:17<00:00, 25.29s/it]\n"
     ]
    },
    {
     "name": "stdout",
     "output_type": "stream",
     "text": [
      "Finished training\n",
      "Testing trbv\n",
      "Data set split into 3750 training sequences and 1250 testing sequences\n",
      "Testing Levenshtein\n",
      "Testing Levenshtein\n",
      "-----Training trbv------\n"
     ]
    },
    {
     "name": "stderr",
     "output_type": "stream",
     "text": [
      "100%|█████████████████████████████████████████| 200/200 [00:03<00:00, 63.74it/s]\n"
     ]
    },
    {
     "name": "stdout",
     "output_type": "stream",
     "text": [
      "Finished training\n",
      "Testing trbv\n",
      "-----Training trbv------\n"
     ]
    },
    {
     "name": "stderr",
     "output_type": "stream",
     "text": [
      "100%|█████████████████████████████████████████| 200/200 [40:09<00:00, 12.05s/it]\n"
     ]
    },
    {
     "name": "stdout",
     "output_type": "stream",
     "text": [
      "Finished training\n",
      "Testing trbv\n",
      "Data set split into 3750 training sequences and 1250 testing sequences\n",
      "Testing Levenshtein\n",
      "Testing Levenshtein\n",
      "-----Training trbv------\n"
     ]
    },
    {
     "name": "stderr",
     "output_type": "stream",
     "text": [
      "100%|█████████████████████████████████████████| 200/200 [00:03<00:00, 63.93it/s]\n"
     ]
    },
    {
     "name": "stdout",
     "output_type": "stream",
     "text": [
      "Finished training\n",
      "Testing trbv\n",
      "-----Training trbv------\n"
     ]
    },
    {
     "name": "stderr",
     "output_type": "stream",
     "text": [
      "100%|█████████████████████████████████████████| 200/200 [17:59<00:00,  5.40s/it]\n"
     ]
    },
    {
     "name": "stdout",
     "output_type": "stream",
     "text": [
      "Finished training\n",
      "Testing trbv\n",
      "Data set split into 3750 training sequences and 1250 testing sequences\n",
      "Testing Levenshtein\n",
      "Testing Levenshtein\n",
      "-----Training trbv------\n"
     ]
    },
    {
     "name": "stderr",
     "output_type": "stream",
     "text": [
      "100%|█████████████████████████████████████████| 200/200 [00:03<00:00, 63.49it/s]\n"
     ]
    },
    {
     "name": "stdout",
     "output_type": "stream",
     "text": [
      "Finished training\n",
      "Testing trbv\n",
      "-----Training trbv------\n"
     ]
    },
    {
     "name": "stderr",
     "output_type": "stream",
     "text": [
      "100%|█████████████████████████████████████████| 200/200 [21:10<00:00,  6.35s/it]\n"
     ]
    },
    {
     "name": "stdout",
     "output_type": "stream",
     "text": [
      "Finished training\n",
      "Testing trbv\n",
      "Data set split into 3750 training sequences and 1250 testing sequences\n",
      "Testing Levenshtein\n",
      "Testing Levenshtein\n",
      "-----Training trbv------\n"
     ]
    },
    {
     "name": "stderr",
     "output_type": "stream",
     "text": [
      "100%|█████████████████████████████████████████| 200/200 [00:03<00:00, 63.99it/s]\n"
     ]
    },
    {
     "name": "stdout",
     "output_type": "stream",
     "text": [
      "Finished training\n",
      "Testing trbv\n",
      "-----Training trbv------\n"
     ]
    },
    {
     "name": "stderr",
     "output_type": "stream",
     "text": [
      "100%|█████████████████████████████████████████| 200/200 [10:02<00:00,  3.01s/it]\n"
     ]
    },
    {
     "name": "stdout",
     "output_type": "stream",
     "text": [
      "Finished training\n",
      "Testing trbv\n",
      "Data set split into 3750 training sequences and 1250 testing sequences\n",
      "Testing Levenshtein\n",
      "Testing Levenshtein\n",
      "-----Training trbv------\n"
     ]
    },
    {
     "name": "stderr",
     "output_type": "stream",
     "text": [
      "100%|█████████████████████████████████████████| 200/200 [00:03<00:00, 62.95it/s]\n"
     ]
    },
    {
     "name": "stdout",
     "output_type": "stream",
     "text": [
      "Finished training\n",
      "Testing trbv\n",
      "-----Training trbv------\n"
     ]
    },
    {
     "name": "stderr",
     "output_type": "stream",
     "text": [
      "100%|███████████████████████████████████████| 200/200 [1:50:16<00:00, 33.08s/it]\n"
     ]
    },
    {
     "name": "stdout",
     "output_type": "stream",
     "text": [
      "Finished training\n",
      "Testing trbv\n",
      "Data set split into 3750 training sequences and 1250 testing sequences\n",
      "Testing Levenshtein\n",
      "Testing Levenshtein\n",
      "-----Training trbv------\n"
     ]
    },
    {
     "name": "stderr",
     "output_type": "stream",
     "text": [
      "100%|█████████████████████████████████████████| 200/200 [00:03<00:00, 63.72it/s]\n"
     ]
    },
    {
     "name": "stdout",
     "output_type": "stream",
     "text": [
      "Finished training\n",
      "Testing trbv\n",
      "-----Training trbv------\n"
     ]
    },
    {
     "name": "stderr",
     "output_type": "stream",
     "text": [
      "100%|███████████████████████████████████████| 200/200 [1:47:23<00:00, 32.22s/it]\n"
     ]
    },
    {
     "name": "stdout",
     "output_type": "stream",
     "text": [
      "Finished training\n",
      "Testing trbv\n",
      "Data set split into 3750 training sequences and 1250 testing sequences\n",
      "Testing Levenshtein\n",
      "Testing Levenshtein\n",
      "-----Training trbv------\n"
     ]
    },
    {
     "name": "stderr",
     "output_type": "stream",
     "text": [
      "100%|█████████████████████████████████████████| 200/200 [14:25<00:00,  4.33s/it]\n"
     ]
    },
    {
     "name": "stdout",
     "output_type": "stream",
     "text": [
      "Finished training\n",
      "Testing trbv\n",
      "-----Training trbv------\n"
     ]
    },
    {
     "name": "stderr",
     "output_type": "stream",
     "text": [
      "100%|█████████████████████████████████████████| 200/200 [44:42<00:00, 13.41s/it]\n"
     ]
    },
    {
     "name": "stdout",
     "output_type": "stream",
     "text": [
      "Finished training\n",
      "Testing trbv\n",
      "Data set split into 3750 training sequences and 1250 testing sequences\n",
      "Testing Levenshtein\n",
      "Testing Levenshtein\n",
      "-----Training trbv------\n"
     ]
    },
    {
     "name": "stderr",
     "output_type": "stream",
     "text": [
      "100%|█████████████████████████████████████████| 200/200 [00:03<00:00, 63.45it/s]\n"
     ]
    },
    {
     "name": "stdout",
     "output_type": "stream",
     "text": [
      "Finished training\n",
      "Testing trbv\n",
      "-----Training trbv------\n"
     ]
    },
    {
     "name": "stderr",
     "output_type": "stream",
     "text": [
      "100%|███████████████████████████████████████| 200/200 [2:15:39<00:00, 40.70s/it]\n"
     ]
    },
    {
     "name": "stdout",
     "output_type": "stream",
     "text": [
      "Finished training\n",
      "Testing trbv\n",
      "Data set split into 3750 training sequences and 1250 testing sequences\n",
      "Testing Levenshtein\n",
      "Testing Levenshtein\n",
      "-----Training trbv------\n"
     ]
    },
    {
     "name": "stderr",
     "output_type": "stream",
     "text": [
      "100%|█████████████████████████████████████████| 200/200 [00:03<00:00, 63.62it/s]\n"
     ]
    },
    {
     "name": "stdout",
     "output_type": "stream",
     "text": [
      "Finished training\n",
      "Testing trbv\n",
      "-----Training trbv------\n"
     ]
    },
    {
     "name": "stderr",
     "output_type": "stream",
     "text": [
      "100%|███████████████████████████████████████| 200/200 [2:00:32<00:00, 36.16s/it]\n"
     ]
    },
    {
     "name": "stdout",
     "output_type": "stream",
     "text": [
      "Finished training\n",
      "Testing trbv\n",
      "Data set split into 3750 training sequences and 1250 testing sequences\n",
      "Testing Levenshtein\n",
      "Testing Levenshtein\n",
      "-----Training trbv------\n"
     ]
    },
    {
     "name": "stderr",
     "output_type": "stream",
     "text": [
      "100%|█████████████████████████████████████████| 200/200 [28:21<00:00,  8.51s/it]\n"
     ]
    },
    {
     "name": "stdout",
     "output_type": "stream",
     "text": [
      "Finished training\n",
      "Testing trbv\n",
      "-----Training trbv------\n"
     ]
    },
    {
     "name": "stderr",
     "output_type": "stream",
     "text": [
      "100%|███████████████████████████████████████| 200/200 [1:41:51<00:00, 30.56s/it]\n"
     ]
    },
    {
     "name": "stdout",
     "output_type": "stream",
     "text": [
      "Finished training\n",
      "Testing trbv\n",
      "Data set split into 3750 training sequences and 1250 testing sequences\n",
      "Testing Levenshtein\n",
      "Testing Levenshtein\n",
      "-----Training trbv------\n"
     ]
    },
    {
     "name": "stderr",
     "output_type": "stream",
     "text": [
      "100%|█████████████████████████████████████████| 200/200 [00:03<00:00, 63.62it/s]\n"
     ]
    },
    {
     "name": "stdout",
     "output_type": "stream",
     "text": [
      "Finished training\n",
      "Testing trbv\n",
      "-----Training trbv------\n"
     ]
    },
    {
     "name": "stderr",
     "output_type": "stream",
     "text": [
      "100%|███████████████████████████████████████| 200/200 [1:45:46<00:00, 31.73s/it]\n"
     ]
    },
    {
     "name": "stdout",
     "output_type": "stream",
     "text": [
      "Finished training\n",
      "Testing trbv\n",
      "Data set split into 3750 training sequences and 1250 testing sequences\n",
      "Testing Levenshtein\n",
      "Testing Levenshtein\n",
      "-----Training trbv------\n"
     ]
    },
    {
     "name": "stderr",
     "output_type": "stream",
     "text": [
      "100%|█████████████████████████████████████████| 200/200 [00:03<00:00, 63.87it/s]\n"
     ]
    },
    {
     "name": "stdout",
     "output_type": "stream",
     "text": [
      "Finished training\n",
      "Testing trbv\n",
      "-----Training trbv------\n"
     ]
    },
    {
     "name": "stderr",
     "output_type": "stream",
     "text": [
      "100%|███████████████████████████████████████| 200/200 [1:28:59<00:00, 26.70s/it]\n"
     ]
    },
    {
     "name": "stdout",
     "output_type": "stream",
     "text": [
      "Finished training\n",
      "Testing trbv\n",
      "Data set split into 3750 training sequences and 1250 testing sequences\n",
      "Testing Levenshtein\n",
      "Testing Levenshtein\n",
      "-----Training trbv------\n"
     ]
    },
    {
     "name": "stderr",
     "output_type": "stream",
     "text": [
      "100%|█████████████████████████████████████████| 200/200 [15:30<00:00,  4.65s/it]\n"
     ]
    },
    {
     "name": "stdout",
     "output_type": "stream",
     "text": [
      "Finished training\n",
      "Testing trbv\n",
      "-----Training trbv------\n"
     ]
    },
    {
     "name": "stderr",
     "output_type": "stream",
     "text": [
      "100%|█████████████████████████████████████████| 200/200 [10:09<00:00,  3.05s/it]\n"
     ]
    },
    {
     "name": "stdout",
     "output_type": "stream",
     "text": [
      "Finished training\n",
      "Testing trbv\n"
     ]
    }
   ],
   "source": [
    "num_epitopes = 10\n",
    "\n",
    "metrics_levenshtein = []\n",
    "metrics_wlevenshtein = []\n",
    "metrics_trbv = []\n",
    "metrics_trbvl = []\n",
    "\n",
    "for i in range(20):\n",
    "    training_data, training_labels, testing_data, testing_labels = src.train_test_split(mira, 500, num_epitopes, 0.25)\n",
    "    \n",
    "    #Levenshtein Model testing\n",
    "    LevenshteinModel = src.LevenshteinModel()\n",
    "    metrics_levenshtein.append(src.evaluate_model(LevenshteinModel\n",
    "                                             , {\"CDR3B\" : testing_data[\"CDR3B\"]}, testing_labels)[\"accuracy\"])\n",
    "    \n",
    "    #Weighted Levenshtein Model testing\n",
    "    wLevenshteinModel = weightedLevenshteinModel()\n",
    "    metrics_wlevenshtein.append(src.evaluate_model(wLevenshteinModel\n",
    "                                          , {\"CDR3B\" : testing_data[\"CDR3B\"]}, testing_labels)[\"accuracy\"])\n",
    "    \n",
    "    #V gene model testing\n",
    "    trbvModel = TRBV_Embedder(\"trbv\", 5)\n",
    "    src.train_model(trbvModel , {\"CDR3B\" : training_data[\"CDR3B\"], \"TRBV\" : training_data[\"TRBV\"]}, training_labels\n",
    "                     , src.physical_loss, margin = 2\n",
    "                     , niters = 200, batch_size = 50\n",
    "                     , lr = 1e-2, return_evaluations = False)\n",
    "    \n",
    "    metrics_trbv.append(src.evaluate_model(trbvModel, {\"CDR3B\" : testing_data[\"CDR3B\"],\n",
    "                                              \"TRBV\" : testing_data[\"TRBV\"]}, testing_labels)[\"accuracy\"])\n",
    "    \n",
    "    #V gene model with weighted Levenshtein distance testing\n",
    "    trbvlModel = TRBVL_Embedder(\"trbv\", 5)\n",
    "    \n",
    "    src.train_model(trbvlModel , {\"CDR3B\" : training_data[\"CDR3B\"], \"TRBV\" : training_data[\"TRBV\"]}, training_labels\n",
    "                     , src.physical_loss, margin = 2\n",
    "                     , niters = 200, batch_size = 50\n",
    "                     , lr = 1e-2, return_evaluations = False)\n",
    "    \n",
    "    metrics_trbvl.append(src.evaluate_model(trbvlModel, {\"CDR3B\" : testing_data[\"CDR3B\"],\n",
    "                                              \"TRBV\" : testing_data[\"TRBV\"]}, testing_labels)[\"accuracy\"])\n",
    "    "
   ]
  },
  {
   "cell_type": "code",
   "execution_count": 61,
   "id": "674bc3dd",
   "metadata": {},
   "outputs": [],
   "source": [
    "#np.savetxt('metrics_levenshtein.csv', metrics_levenshtein, delimiter=',')\n",
    "#np.savetxt('metrics_wlevenshtein.csv', metrics_wlevenshtein, delimiter=',')\n",
    "#np.savetxt('metrics_trbv.csv', metrics_trbv, delimiter=',')\n",
    "#np.savetxt('metrics_trbvl.csv', metrics_trbvl, delimiter=',')"
   ]
  },
  {
   "cell_type": "markdown",
   "id": "45c64761",
   "metadata": {},
   "source": [
    "## Comparing performance "
   ]
  },
  {
   "cell_type": "code",
   "execution_count": 9,
   "id": "42cdacd6",
   "metadata": {},
   "outputs": [],
   "source": [
    "acc_levenshtein = np.loadtxt(\"metrics_levenshtein.csv\",\n",
    "                 delimiter=\",\")\n",
    "acc_wlevenshtein = np.loadtxt(\"metrics_wlevenshtein.csv\",\n",
    "                 delimiter=\",\")\n",
    "acc_trbv = np.loadtxt(\"metrics_trbv.csv\",\n",
    "                 delimiter=\",\")\n",
    "acc_trbvl = np.loadtxt(\"metrics_trbvl.csv\",\n",
    "                 delimiter=\",\")"
   ]
  },
  {
   "cell_type": "code",
   "execution_count": 14,
   "id": "b43fd8df",
   "metadata": {},
   "outputs": [
    {
     "data": {
      "image/png": "[encoded data removed]",
      "text/plain": [
       "<Figure size 5000x2500 with 1 Axes>"
      ]
     },
     "metadata": {},
     "output_type": "display_data"
    }
   ],
   "source": [
    "fig,ax = plt.subplots(figsize=(10,5))\n",
    "fig.tight_layout(pad=3.0)\n",
    "\n",
    "bars = (\"Random\",\"V gene\",\"Levenshtein\",\"Weighted Levenshtein\",\"Weighted Levenshtein \\n + V gene\")\n",
    "ypos = np.arange(len(bars))\n",
    "\n",
    "ax.bar(1,1/num_epitopes,color='lightsteelblue', edgecolor='black',linewidth=1.5)\n",
    "ax.bar(2,np.mean(acc_trbv),yerr=np.std(acc_trbv),color='skyblue', edgecolor='black',linewidth=1.5)\n",
    "ax.bar(3,np.mean(acc_levenshtein),yerr=np.std(acc_levenshtein),color='palegreen', edgecolor='black',linewidth=1.5)\n",
    "ax.bar(4,np.mean(acc_wlevenshtein),yerr=np.std(acc_wlevenshtein),color='lightcoral', edgecolor='black',linewidth=1.5)\n",
    "ax.bar(5,np.mean(acc_trbvl),yerr=np.std(acc_trbvl),color='lightyellow', edgecolor='black',linewidth=1.5)\n",
    "\n",
    "ax.set_ylabel(f'5NN accuracy on {num_epitopes} epitopes')\n",
    "ax.set_xticks([1,2,3,4,5],bars);"
   ]
  }
 ],
 "metadata": {
  "kernelspec": {
   "display_name": "Python 3 (ipykernel)",
   "language": "python",
   "name": "python3"
  },
  "language_info": {
   "codemirror_mode": {
    "name": "ipython",
    "version": 3
   },
   "file_extension": ".py",
   "mimetype": "text/x-python",
   "name": "python",
   "nbconvert_exporter": "python",
   "pygments_lexer": "ipython3",
   "version": "3.10.9"
  }
 },
 "nbformat": 4,
 "nbformat_minor": 5
}
