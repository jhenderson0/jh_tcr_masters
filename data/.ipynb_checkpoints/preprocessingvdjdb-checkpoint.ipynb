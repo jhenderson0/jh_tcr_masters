{
 "cells": [
  {
   "cell_type": "code",
   "execution_count": 7,
   "id": "15825f7c",
   "metadata": {},
   "outputs": [],
   "source": [
    "import matplotlib.pyplot as plt\n",
    "from pathlib import Path\n",
    "import pandas as pd\n",
    "import tidytcells\n",
    "import pyrepseq as prs\n",
    "import numpy as np"
   ]
  },
  {
   "cell_type": "code",
   "execution_count": 8,
   "id": "0a6b3ec5",
   "metadata": {},
   "outputs": [],
   "source": [
    "vdjdb_paired = pd.read_csv('../data/vdjdb/vdjdb_paired_human.csv').set_index(\"complex.id\")\n",
    "\n",
    "alpha_data = prs.standardize_dataframe(vdjdb_paired[vdjdb_paired[\"Gene\"] == \"TRA\"], \n",
    "                          [\"V\", \"CDR3\", \"J\" ,None, None, None,\n",
    "                           \"Epitope\", None, None, None])\n",
    "\n",
    "beta_data = prs.standardize_dataframe(vdjdb_paired[vdjdb_paired[\"Gene\"] == \"TRB\"], \n",
    "                          [None, None, None, \"V\", \"CDR3\", \"J\",\n",
    "                           \"Epitope\", None, None, None])\n",
    "\n",
    "vdjdb_paired = pd.DataFrame({\"TRAV\" : [], \"CDR3A\": [],\"TRAJ\": [],\n",
    "                                          \"TRBV\": [], \"CDR3B\": [], \"TRBJ\": [],\n",
    "                                          \"Epitope\": [], \"MHCA\": [], \"MHCB\": [],\n",
    "                                          \"clone_counts\": []})\n",
    "\n",
    "vdjdb_paired[\"TRAV\"] = alpha_data[\"TRAV\"]\n",
    "vdjdb_paired[\"TRAJ\"] = alpha_data[\"TRAJ\"]\n",
    "vdjdb_paired[\"CDR3A\"] = alpha_data[\"CDR3A\"]\n",
    "vdjdb_paired[\"TRBV\"] = beta_data[\"TRBV\"]\n",
    "vdjdb_paired[\"TRBJ\"] = beta_data[\"TRBJ\"]\n",
    "vdjdb_paired[\"CDR3B\"] = beta_data[\"CDR3B\"]\n",
    "vdjdb_paired[\"Epitope\"] = alpha_data[\"Epitope\"]\n",
    "\n",
    "vdjdb_paired = (vdjdb_paired\n",
    ".dropna(axis=0, subset = [\"CDR3A\", \"TRAV\", \"TRAJ\",\"CDR3B\", \"TRBV\", \"TRBJ\"] )\n",
    ".reset_index().drop(\"complex.id\", axis=1).fillna(value=np.nan))"
   ]
  },
  {
   "cell_type": "code",
   "execution_count": 10,
   "id": "831d422a",
   "metadata": {},
   "outputs": [],
   "source": [
    "vdjdb_paired.to_csv(\"../data/vdjdb/vdjdb_paired_human_preprocessed.csv\", index=False)"
   ]
  }
 ],
 "metadata": {
  "kernelspec": {
   "display_name": "Python 3 (ipykernel)",
   "language": "python",
   "name": "python3"
  },
  "language_info": {
   "codemirror_mode": {
    "name": "ipython",
    "version": 3
   },
   "file_extension": ".py",
   "mimetype": "text/x-python",
   "name": "python",
   "nbconvert_exporter": "python",
   "pygments_lexer": "ipython3",
   "version": "3.10.9"
  }
 },
 "nbformat": 4,
 "nbformat_minor": 5
}
